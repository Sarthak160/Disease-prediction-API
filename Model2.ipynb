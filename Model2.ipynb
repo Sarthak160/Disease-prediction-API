{
 "cells": [
  {
   "cell_type": "code",
   "execution_count": 11,
   "id": "793c0fc2",
   "metadata": {},
   "outputs": [
    {
     "name": "stdout",
     "output_type": "stream",
     "text": [
      "Train: (3936, 132), (3936,)\n",
      "Test: (984, 132), (984,)\n",
      "wew\n"
     ]
    }
   ],
   "source": [
    "#!/usr/bin/env python\n",
    "# coding: utf-8\n",
    "\n",
    "\n",
    "# Importing libraries\n",
    "import numpy as np\n",
    "import pandas as pd\n",
    "from scipy.stats import mode\n",
    "# import matplotlib.pyplot as plt\n",
    "# import seaborn as sns\n",
    "from sklearn.preprocessing import LabelEncoder\n",
    "from sklearn.model_selection import train_test_split, cross_val_score\n",
    "from sklearn.svm import SVC\n",
    "from sklearn.naive_bayes import GaussianNB\n",
    "from sklearn.ensemble import RandomForestClassifier\n",
    "\n",
    "\n",
    "#get_ipython().run_line_magic('matplotlib', 'inline')\n",
    "\n",
    "\n",
    "# Reading the train.csv by removing the\n",
    "# last column since it's an empty column\n",
    "DATA_PATH = \"dataset/Training.csv\"\n",
    "data = pd.read_csv(DATA_PATH).dropna(axis=1)\n",
    "\n",
    "# Checking whether the dataset is balanced or not\n",
    "disease_counts = data[\"prognosis\"].value_counts()\n",
    "temp_df = pd.DataFrame({\n",
    "    \"Disease\": disease_counts.index,\n",
    "    \"Counts\": disease_counts.values\n",
    "})\n",
    "\n",
    "# plt.figure(figsize=(18, 8))\n",
    "# sns.barplot(x=\"Disease\", y=\"Counts\", data=temp_df)\n",
    "# plt.xticks(rotation=90)\n",
    "# plt.show()\n",
    "\n",
    "\n",
    "\n",
    "\n",
    "# Encoding the target value into numerical\n",
    "# value using LabelEncoder\n",
    "encoder = LabelEncoder()\n",
    "data[\"prognosis\"] = encoder.fit_transform(data[\"prognosis\"])\n",
    "\n",
    "\n",
    "\n",
    "X = data.iloc[:, :-1]\n",
    "y = data.iloc[:, -1]\n",
    "X_train, X_test, y_train, y_test = train_test_split(\n",
    "    X, y, test_size=0.2, random_state=24)\n",
    "\n",
    "print(f\"Train: {X_train.shape}, {y_train.shape}\")\n",
    "print(f\"Test: {X_test.shape}, {y_test.shape}\")\n",
    "\n",
    "\n",
    "\n",
    "# Initializing Models\n",
    "models = {\n",
    "    \"SVC\": SVC(),\n",
    "    \"Gaussian NB\": GaussianNB(),\n",
    "    \"Random Forest\": RandomForestClassifier(random_state=18)\n",
    "}\n",
    "print(\"wew\")\n",
    "# Training and testing SVM Classifier\n",
    "# svm_model = SVC()\n",
    "# svm_model.fit(X_train, y_train)\n",
    "# preds = svm_model.predict(X_test)\n",
    "\n",
    "\n",
    "# Training and testing Naive Bayes Classifier\n",
    "nb_model = GaussianNB()\n",
    "nb_model.fit(X_train, y_train)\n",
    "preds = nb_model.predict(X_test)\n",
    "\n",
    "\n",
    "# Training and testing Random Forest Classifier\n",
    "rf_model = RandomForestClassifier(random_state=18)\n",
    "rf_model.fit(X_train, y_train)\n",
    "preds = rf_model.predict(X_test)\n",
    "\n",
    "\n",
    "\n",
    "# Training the models on whole data\n",
    "final_svm_model = SVC()\n",
    "final_nb_model = GaussianNB()\n",
    "final_rf_model = RandomForestClassifier(random_state=18)\n",
    "final_svm_model.fit(X, y)\n",
    "final_nb_model.fit(X, y)\n",
    "final_rf_model.fit(X, y)\n",
    "\n",
    "# Reading the test data\n",
    "test_data = pd.read_csv(\"./dataset/Testing.csv\").dropna(axis=1)\n",
    "\n",
    "test_X = test_data.iloc[:, :-1]\n",
    "test_Y = encoder.transform(test_data.iloc[:, -1])\n",
    "\n",
    "# Making prediction by take mode of predictions\n",
    "# made by all the classifiers\n",
    "svm_preds = final_svm_model.predict(test_X)\n",
    "nb_preds = final_nb_model.predict(test_X)\n",
    "rf_preds = final_rf_model.predict(test_X)\n",
    "\n",
    "final_preds = [mode([i, j, k])[0][0] for i, j,\n",
    "               k in zip(svm_preds, nb_preds, rf_preds)]\n",
    "\n",
    "\n",
    "symptoms = X.columns.values\n",
    "\n",
    "# Creating a symptom index dictionary to encode the\n",
    "# input symptoms into numerical form\n",
    "symptom_index = {}\n",
    "for index, value in enumerate(symptoms):\n",
    "    symptom = \" \".join([i.capitalize() for i in value.split(\"_\")])\n",
    "    symptom_index[symptom] = index\n",
    "\n",
    "data_dict = {\n",
    "    \"symptom_index\": symptom_index,\n",
    "    \"predictions_classes\": encoder.classes_\n",
    "}\n",
    "\n",
    "\n",
    "\n"
   ]
  },
  {
   "cell_type": "code",
   "execution_count": 17,
   "id": "3c7404f1",
   "metadata": {},
   "outputs": [],
   "source": [
    "import pickle\n",
    "pickle_out = open(\"final_rf_model.pkl\",\"wb\")\n",
    "pickle.dump(final_rf_model, pickle_out)\n",
    "pickle_out.close()\n",
    "\n",
    "pickle_out2 = open(\"data_dict.pkl\",\"wb\")\n",
    "pickle.dump(data_dict, pickle_out2)\n",
    "pickle_out2.close()\n",
    "\n",
    "pickle_out3 = open(\"final_nb_model.pkl\",\"wb\")\n",
    "pickle.dump(final_nb_model, pickle_out3)\n",
    "pickle_out3.close()\n",
    "\n",
    "pickle_out4 = open(\"final_svm_model.pkl\",\"wb\")\n",
    "pickle.dump(final_svm_model, pickle_out4)\n",
    "pickle_out4.close()"
   ]
  },
  {
   "cell_type": "code",
   "execution_count": 14,
   "id": "0eb1a8c5",
   "metadata": {},
   "outputs": [],
   "source": [
    "pickle_in = open(\"disease.pkl\",\"rb\")\n",
    "final_rf_model=pickle.load(pickle_in)"
   ]
  },
  {
   "cell_type": "code",
   "execution_count": 15,
   "id": "394bda81",
   "metadata": {},
   "outputs": [
    {
     "name": "stdout",
     "output_type": "stream",
     "text": [
      "RandomForestClassifier(random_state=18)\n"
     ]
    }
   ],
   "source": [
    "print(final_rf_model)"
   ]
  },
  {
   "cell_type": "code",
   "execution_count": 18,
   "id": "efc852ab",
   "metadata": {},
   "outputs": [],
   "source": [
    "pickle_in2 = open(\"data_dict.pkl\",\"rb\")\n",
    "data_dict=pickle.load(pickle_in2)"
   ]
  },
  {
   "cell_type": "code",
   "execution_count": 19,
   "id": "6eb0efbf",
   "metadata": {},
   "outputs": [
    {
     "name": "stdout",
     "output_type": "stream",
     "text": [
      "{'symptom_index': {'Itching': 0, 'Skin Rash': 1, 'Nodal Skin Eruptions': 2, 'Continuous Sneezing': 3, 'Shivering': 4, 'Chills': 5, 'Joint Pain': 6, 'Stomach Pain': 7, 'Acidity': 8, 'Ulcers On Tongue': 9, 'Muscle Wasting': 10, 'Vomiting': 11, 'Burning Micturition': 12, 'Spotting  urination': 13, 'Fatigue': 14, 'Weight Gain': 15, 'Anxiety': 16, 'Cold Hands And Feets': 17, 'Mood Swings': 18, 'Weight Loss': 19, 'Restlessness': 20, 'Lethargy': 21, 'Patches In Throat': 22, 'Irregular Sugar Level': 23, 'Cough': 24, 'High Fever': 25, 'Sunken Eyes': 26, 'Breathlessness': 27, 'Sweating': 28, 'Dehydration': 29, 'Indigestion': 30, 'Headache': 31, 'Yellowish Skin': 32, 'Dark Urine': 33, 'Nausea': 34, 'Loss Of Appetite': 35, 'Pain Behind The Eyes': 36, 'Back Pain': 37, 'Constipation': 38, 'Abdominal Pain': 39, 'Diarrhoea': 40, 'Mild Fever': 41, 'Yellow Urine': 42, 'Yellowing Of Eyes': 43, 'Acute Liver Failure': 44, 'Fluid Overload': 45, 'Swelling Of Stomach': 46, 'Swelled Lymph Nodes': 47, 'Malaise': 48, 'Blurred And Distorted Vision': 49, 'Phlegm': 50, 'Throat Irritation': 51, 'Redness Of Eyes': 52, 'Sinus Pressure': 53, 'Runny Nose': 54, 'Congestion': 55, 'Chest Pain': 56, 'Weakness In Limbs': 57, 'Fast Heart Rate': 58, 'Pain During Bowel Movements': 59, 'Pain In Anal Region': 60, 'Bloody Stool': 61, 'Irritation In Anus': 62, 'Neck Pain': 63, 'Dizziness': 64, 'Cramps': 65, 'Bruising': 66, 'Obesity': 67, 'Swollen Legs': 68, 'Swollen Blood Vessels': 69, 'Puffy Face And Eyes': 70, 'Enlarged Thyroid': 71, 'Brittle Nails': 72, 'Swollen Extremeties': 73, 'Excessive Hunger': 74, 'Extra Marital Contacts': 75, 'Drying And Tingling Lips': 76, 'Slurred Speech': 77, 'Knee Pain': 78, 'Hip Joint Pain': 79, 'Muscle Weakness': 80, 'Stiff Neck': 81, 'Swelling Joints': 82, 'Movement Stiffness': 83, 'Spinning Movements': 84, 'Loss Of Balance': 85, 'Unsteadiness': 86, 'Weakness Of One Body Side': 87, 'Loss Of Smell': 88, 'Bladder Discomfort': 89, 'Foul Smell Of urine': 90, 'Continuous Feel Of Urine': 91, 'Passage Of Gases': 92, 'Internal Itching': 93, 'Toxic Look (typhos)': 94, 'Depression': 95, 'Irritability': 96, 'Muscle Pain': 97, 'Altered Sensorium': 98, 'Red Spots Over Body': 99, 'Belly Pain': 100, 'Abnormal Menstruation': 101, 'Dischromic  Patches': 102, 'Watering From Eyes': 103, 'Increased Appetite': 104, 'Polyuria': 105, 'Family History': 106, 'Mucoid Sputum': 107, 'Rusty Sputum': 108, 'Lack Of Concentration': 109, 'Visual Disturbances': 110, 'Receiving Blood Transfusion': 111, 'Receiving Unsterile Injections': 112, 'Coma': 113, 'Stomach Bleeding': 114, 'Distention Of Abdomen': 115, 'History Of Alcohol Consumption': 116, 'Fluid Overload.1': 117, 'Blood In Sputum': 118, 'Prominent Veins On Calf': 119, 'Palpitations': 120, 'Painful Walking': 121, 'Pus Filled Pimples': 122, 'Blackheads': 123, 'Scurring': 124, 'Skin Peeling': 125, 'Silver Like Dusting': 126, 'Small Dents In Nails': 127, 'Inflammatory Nails': 128, 'Blister': 129, 'Red Sore Around Nose': 130, 'Yellow Crust Ooze': 131}, 'predictions_classes': array(['(vertigo) Paroymsal  Positional Vertigo', 'AIDS', 'Acne',\n",
      "       'Alcoholic hepatitis', 'Allergy', 'Arthritis', 'Bronchial Asthma',\n",
      "       'Cervical spondylosis', 'Chicken pox', 'Chronic cholestasis',\n",
      "       'Common Cold', 'Dengue', 'Diabetes ',\n",
      "       'Dimorphic hemmorhoids(piles)', 'Drug Reaction',\n",
      "       'Fungal infection', 'GERD', 'Gastroenteritis', 'Heart attack',\n",
      "       'Hepatitis B', 'Hepatitis C', 'Hepatitis D', 'Hepatitis E',\n",
      "       'Hypertension ', 'Hyperthyroidism', 'Hypoglycemia',\n",
      "       'Hypothyroidism', 'Impetigo', 'Jaundice', 'Malaria', 'Migraine',\n",
      "       'Osteoarthristis', 'Paralysis (brain hemorrhage)',\n",
      "       'Peptic ulcer diseae', 'Pneumonia', 'Psoriasis', 'Tuberculosis',\n",
      "       'Typhoid', 'Urinary tract infection', 'Varicose veins',\n",
      "       'hepatitis A'], dtype=object)}\n"
     ]
    }
   ],
   "source": [
    "print(data_dict)"
   ]
  },
  {
   "cell_type": "code",
   "execution_count": null,
   "id": "bec77fe5",
   "metadata": {},
   "outputs": [],
   "source": [
    "# Defining the Function\n",
    "# Input: string containing symptoms separated by commmas\n",
    "# Output: Generated predictions by models\n",
    "\n",
    "def PredictDisease(symptoms):\n",
    "    symptoms = symptoms.split(\",\")\n",
    "\n",
    "    # creating input data for the models\n",
    "    input_data = [0] * len(data_dict[\"symptom_index\"])\n",
    "    for symptom in symptoms:\n",
    "        index = data_dict[\"symptom_index\"][symptom]\n",
    "        input_data[index] = 1\n",
    "\n",
    "    # reshaping the input data and converting it\n",
    "    # into suitable format for model predictions\n",
    "    input_data = np.array(input_data).reshape(1, -1)\n",
    "\n",
    "    # generating individual outputs\n",
    "    rf_prediction = data_dict[\"predictions_classes\"][final_rf_model.predict(input_data)[\n",
    "        0]]\n",
    "    nb_prediction = data_dict[\"predictions_classes\"][final_nb_model.predict(input_data)[\n",
    "        0]]\n",
    "    svm_prediction = data_dict[\"predictions_classes\"][final_svm_model.predict(input_data)[\n",
    "        0]]\n",
    "\n",
    "    # making final prediction by taking mode of all predictions\n",
    "    final_prediction = mode(\n",
    "        [rf_prediction, nb_prediction, svm_prediction])[0][0]\n",
    "    predictions = {\n",
    "        \"rf_model_prediction\": rf_prediction,\n",
    "        \"naive_bayes_prediction\": nb_prediction,\n",
    "        \"svm_model_prediction\": nb_prediction,\n",
    "        \"final_prediction\": final_prediction\n",
    "    }\n",
    "    return predictions\n"
   ]
  }
 ],
 "metadata": {
  "interpreter": {
   "hash": "45051a4e3a3e22cb7f4f0d040f863f9a5a4f2a701376051b2ba3dc4c350be151"
  },
  "kernelspec": {
   "display_name": "Python 3.9.7 ('base')",
   "language": "python",
   "name": "python3"
  },
  "language_info": {
   "codemirror_mode": {
    "name": "ipython",
    "version": 3
   },
   "file_extension": ".py",
   "mimetype": "text/x-python",
   "name": "python",
   "nbconvert_exporter": "python",
   "pygments_lexer": "ipython3",
   "version": "3.9.7"
  }
 },
 "nbformat": 4,
 "nbformat_minor": 5
}
